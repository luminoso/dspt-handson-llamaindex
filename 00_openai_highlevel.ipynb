{
 "cells": [
  {
   "cell_type": "markdown",
   "metadata": {},
   "source": [
    "<img src=\"./figs/stages.png\" height=100px/>"
   ]
  },
  {
   "cell_type": "markdown",
   "metadata": {},
   "source": [
    "## 1. Load Stage\n",
    "\n",
    "### SimpleDirectoryReader \n",
    "\n",
    "Loads and parses .txt, .csv, .epub, .md, etc file contents "
   ]
  },
  {
   "cell_type": "code",
   "execution_count": 1,
   "metadata": {},
   "outputs": [
    {
     "name": "stderr",
     "output_type": "stream",
     "text": [
      "/home/luminoso/clouds/github/dspt-handson-llamaindex/.venv/lib64/python3.12/site-packages/tqdm/auto.py:21: TqdmWarning: IProgress not found. Please update jupyter and ipywidgets. See https://ipywidgets.readthedocs.io/en/stable/user_install.html\n",
      "  from .autonotebook import tqdm as notebook_tqdm\n"
     ]
    }
   ],
   "source": [
    "from llama_index.core import VectorStoreIndex, SimpleDirectoryReader\n",
    "\n",
    "documents = SimpleDirectoryReader(\"./data\").load_data()"
   ]
  },
  {
   "cell_type": "code",
   "execution_count": 2,
   "metadata": {},
   "outputs": [
    {
     "name": "stdout",
     "output_type": "stream",
     "text": [
      "Doc ID: a132fdce-0caf-43a5-8c28-7d05fcd9885d\n",
      "Text: History of the University of Aveiro  The University of Aveiro\n",
      "will be built to uphold the serene construction of the future and to\n",
      "defend sacred and enduring values.  This is how the then Minister of\n",
      "Education, José Veiga Simão began his inauguration speech of the first\n",
      "Foundation Commission of the University of Aveiro (UA) on December 15,\n",
      "1973,...\n"
     ]
    }
   ],
   "source": [
    "print(documents[0])"
   ]
  },
  {
   "cell_type": "markdown",
   "metadata": {},
   "source": [
    "## 2. Index Stage\n",
    "\n",
    "### VectorStoreIndex\n",
    "\n",
    "Creates the structure to store embeddings for document *chunks* "
   ]
  },
  {
   "cell_type": "code",
   "execution_count": 3,
   "metadata": {},
   "outputs": [],
   "source": [
    "index = VectorStoreIndex.from_documents(documents)"
   ]
  },
  {
   "cell_type": "markdown",
   "metadata": {},
   "source": [
    "## 2. Query Stage\n",
    "\n",
    "### Two components: `retriever` and `response_synthesizer`\n",
    "\n",
    "Query engine fetches documents and mixes them in a prompt that outputs an answer"
   ]
  },
  {
   "cell_type": "code",
   "execution_count": 4,
   "metadata": {},
   "outputs": [],
   "source": [
    "query_engine = index.as_query_engine()"
   ]
  },
  {
   "cell_type": "markdown",
   "metadata": {},
   "source": [
    "## 3. Perform query over the data"
   ]
  },
  {
   "cell_type": "code",
   "execution_count": 5,
   "metadata": {},
   "outputs": [
    {
     "name": "stdout",
     "output_type": "stream",
     "text": [
      "The author worked on writing and programming before college.\n"
     ]
    }
   ],
   "source": [
    "response = query_engine.query(\"What did the author do growing up?\")\n",
    "print(response)"
   ]
  },
  {
   "cell_type": "code",
   "execution_count": 6,
   "metadata": {},
   "outputs": [
    {
     "name": "stdout",
     "output_type": "stream",
     "text": [
      "The UA's mission is to promote internationalization and cooperation through participation in European programs, strengthening relations with Portuguese-speaking and Latin American countries, participating in networks and consortia of international universities, and signing protocols with institutions, organizations, and companies in Portugal and abroad. Additionally, the UA aims to collaborate with the local community and society by promoting the transfer of knowledge, technology, and innovation within the business world, while also providing excellent working spaces, scientific infrastructures, and teaching conditions for students and lecturers.\n"
     ]
    }
   ],
   "source": [
    "response = query_engine.query(\"What's UA mission?\")\n",
    "print(response)"
   ]
  },
  {
   "cell_type": "code",
   "execution_count": 7,
   "metadata": {},
   "outputs": [
    {
     "name": "stdout",
     "output_type": "stream",
     "text": [
      "46 students joined UA last year.\n"
     ]
    }
   ],
   "source": [
    "response = query_engine.query(\"How many students joined ua last year?\")\n",
    "print(response)"
   ]
  },
  {
   "cell_type": "code",
   "execution_count": 8,
   "metadata": {},
   "outputs": [
    {
     "name": "stdout",
     "output_type": "stream",
     "text": [
      "Sopa - Sopa de espinafres\n",
      "Prato Carne - Chanfana de borrego e arroz de louro\n",
      "Prato Peixe - Meia desfeita de bacalhau com batata cozida e grão\n",
      "Prato Vegetariano - Jardineira de tofu e batata\n"
     ]
    }
   ],
   "source": [
    "response = query_engine.query(\"What's in the food menu for friday?\")\n",
    "print(response)"
   ]
  },
  {
   "cell_type": "code",
   "execution_count": 9,
   "metadata": {},
   "outputs": [
    {
     "name": "stdout",
     "output_type": "stream",
     "text": [
      "Friday dinner menu includes:\n",
      "- Soup: Sopa de espinafres\n",
      "- Meat Dish: Jardineira mista and batata\n",
      "- Vegetarian Dish: Caçarola de legumes e massa integral\n"
     ]
    }
   ],
   "source": [
    "response = query_engine.query(\n",
    "    \"What's in the food menu for friday dinner? Reply in english\"\n",
    ")\n",
    "print(response)"
   ]
  },
  {
   "cell_type": "code",
   "execution_count": null,
   "metadata": {},
   "outputs": [],
   "source": []
  }
 ],
 "metadata": {
  "kernelspec": {
   "display_name": ".venv",
   "language": "python",
   "name": "python3"
  },
  "language_info": {
   "codemirror_mode": {
    "name": "ipython",
    "version": 3
   },
   "file_extension": ".py",
   "mimetype": "text/x-python",
   "name": "python",
   "nbconvert_exporter": "python",
   "pygments_lexer": "ipython3",
   "version": "3.12.3"
  }
 },
 "nbformat": 4,
 "nbformat_minor": 2
}
