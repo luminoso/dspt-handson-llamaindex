{
 "cells": [
  {
   "cell_type": "markdown",
   "metadata": {},
   "source": [
    "<img src=\"./figs/stages.png\" height=100px/>"
   ]
  },
  {
   "cell_type": "code",
   "execution_count": 1,
   "metadata": {},
   "outputs": [],
   "source": [
    "import warnings\n",
    "\n",
    "warnings.filterwarnings(\"ignore\")\n",
    "\n",
    "from llama_index.core import SimpleDirectoryReader\n",
    "from llama_index.core import VectorStoreIndex, SimpleDirectoryReader\n",
    "\n",
    "\n",
    "documents = SimpleDirectoryReader(\"./data\").load_data()\n",
    "index = VectorStoreIndex.from_documents(documents)"
   ]
  },
  {
   "cell_type": "markdown",
   "metadata": {},
   "source": [
    "### 3. Querying\n",
    "\n",
    "#### 3.1 Retrieve"
   ]
  },
  {
   "cell_type": "code",
   "execution_count": 2,
   "metadata": {},
   "outputs": [],
   "source": [
    "from llama_index.core.retrievers import VectorIndexRetriever\n",
    "\n",
    "retriever = VectorIndexRetriever(\n",
    "    index=index,\n",
    "    similarity_top_k=3,\n",
    ")"
   ]
  },
  {
   "cell_type": "code",
   "execution_count": 3,
   "metadata": {},
   "outputs": [],
   "source": [
    "retrieved_documents = retriever.retrieve(\"What's UA mission?\")"
   ]
  },
  {
   "cell_type": "code",
   "execution_count": 4,
   "metadata": {},
   "outputs": [
    {
     "data": {
      "text/plain": [
       "3"
      ]
     },
     "execution_count": 4,
     "metadata": {},
     "output_type": "execute_result"
    }
   ],
   "source": [
    "len(retrieved_documents)"
   ]
  },
  {
   "cell_type": "code",
   "execution_count": 5,
   "metadata": {},
   "outputs": [
    {
     "data": {
      "text/plain": [
       "\"The 1990s marked a new phase in the UA's evolution. New priorities such as internationalisation and cooperation are redefined, namely through participation in European programmes, strengthening relations with Portuguese-speaking and Latin American countries, participating in networks and consortia of international universities and signing protocols with institutions,organisations and companies in Portugal and abroad.\\n\\nThe collaboration of Aveiro University with the local community and society as as whole is reinforced by the UA's engagement in promoting the transfer of knowledge, technology and innovation within the world of business. At the same time, decisive steps are being taken to promote continuous training and distance learning programmes, which were becoming increasingly important in meeting the educational needs of different publics. In the course of its growth, the University has always striven to provide students and lecturers with excellent working spaces, scientific infrastructures and teaching conditions.\\n\\nDuring the second mandate of the fourth rector, Júlio Pedrosa, the academic population exceeded 8000 students and research had attained high quality standards. The dynamism of the University's teaching staff and its researchers would result in the UA becoming the Portuguese University with the largest number of internationally recognised research projects, a characteristic that it still maintains today.\\n\\nThe first mandate of the sixth rector of the UA, Maria Helena Nazaré, was marked by the launch of the UA's teaching programme and technical and professional training programmes (in the academic year 2002/2003). Since then, not only has the UA Post-Secondary Education Programme been extended to other municipalities, but the range of Technological Specialization Courses (CETs) has also increased, and now professional higher technical courses (TESP) are also being offered.\\n\\nThe two mandates of the seventh rector of the UA, Manuel António Assunção, between 2010-2014 and 2014-2018, are marked by a commitment to a Thinking, Feeling Campus and to the consolidation of the UA concept, as well as its affirmation as an international benchmark.\\n\\nOn March 13, 2018, Paulo Jorge Ferreira was elected rector of the UA.\""
      ]
     },
     "execution_count": 5,
     "metadata": {},
     "output_type": "execute_result"
    }
   ],
   "source": [
    "retrieved_documents[0].text"
   ]
  },
  {
   "cell_type": "code",
   "execution_count": 6,
   "metadata": {},
   "outputs": [
    {
     "data": {
      "text/plain": [
       "{'file_path': '/var/home/luminoso/clouds/github/dspt-handson-llamaindex/data/about_ua.txt',\n",
       " 'file_name': 'about_ua.txt',\n",
       " 'file_type': 'text/plain',\n",
       " 'file_size': 6110,\n",
       " 'creation_date': '2024-05-27',\n",
       " 'last_modified_date': '2024-05-27'}"
      ]
     },
     "execution_count": 6,
     "metadata": {},
     "output_type": "execute_result"
    }
   ],
   "source": [
    "retrieved_documents[0].metadata"
   ]
  },
  {
   "cell_type": "code",
   "execution_count": 7,
   "metadata": {},
   "outputs": [],
   "source": [
    "retrieved_documents = retriever.retrieve(\"What's in the food menu for friday dinner?\")"
   ]
  },
  {
   "cell_type": "code",
   "execution_count": 8,
   "metadata": {},
   "outputs": [
    {
     "data": {
      "text/plain": [
       "'Cantina Santiago\\nCantina com serviço de takeaway ao almoço - pode encomendar até às 11h do próprio dia\\n\\n \\nDia \\tEmenta \\t\\t\\nAlmoço Terça 28/05/2024 \\t\\nSopa - Creme de ervilhas\\nPrato Carne - Rojões e batata corada\\nPrato Peixe - Carapau grelhado com arroz de espinafres e cenoura\\nPrato Vegetariano - Bolonhesa de soja e massa integral\\n\\t\\t\\nJantar Terça 28/05/2024 \\t\\nSopa - Creme de ervilhas\\nPrato Peixe - Massada de marisco\\nprato Vegetariano - Tofu salteado com alho francês e batata\\n\\t\\t\\nAlmoço Quarta 29/05/2024 \\t\\nSopa - Caldo verde\\nPrato Carne - Strogonoff de vitela e puré de batata\\nPrato Peixe - Solha frita e arroz de tomate\\nPrato Vegetariano - Paella e arroz integral\\n\\nJantar Quarta 29/05/2024 \\t\\nSopa - Caldo verde\\nPrato Carne - Peito de peru com molho de mostarda e arroz\\nPrato Vegetariano - Seitan agridoce e millet\\n\\nAlmoço Quinta 30/05/2024 \\t\\nENCERRADO - FERIADO\\n\\t\\t\\nJantar Quinta 30/05/2024 \\t\\nENCERRADO - FERIADO\\n\\t\\t\\nAlmoço Sexta 31/05/2024 \\t\\nSopa - Sopa de espinafres\\nPrato Carne - Chanfana de borrego e arroz de louro\\nPrato Peixe - Meia desfeita de bacalhau com batata cozida e grão\\nPrato Vegetariano - Jardineira de tofu e batata\\n\\nJantar Sexta 31/05/2024 \\t\\nSopa - Sopa de espinafres\\nPrato Carne - Jardineira mista e batata\\nPrato Vegetariano - Caçarola de legumes e massa integral'"
      ]
     },
     "execution_count": 8,
     "metadata": {},
     "output_type": "execute_result"
    }
   ],
   "source": [
    "retrieved_documents[0].text"
   ]
  },
  {
   "cell_type": "markdown",
   "metadata": {},
   "source": [
    "#### 3.2 Mixing sources and prompt"
   ]
  },
  {
   "cell_type": "code",
   "execution_count": 9,
   "metadata": {},
   "outputs": [],
   "source": [
    "query_engine = index.as_query_engine()"
   ]
  },
  {
   "cell_type": "code",
   "execution_count": 10,
   "metadata": {},
   "outputs": [
    {
     "name": "stdout",
     "output_type": "stream",
     "text": [
      "Context information is below.\n",
      "---------------------\n",
      "{context_str}\n",
      "---------------------\n",
      "Given the context information and not prior knowledge, answer the query.\n",
      "Query: {query_str}\n",
      "Answer: \n"
     ]
    }
   ],
   "source": [
    "prompts_dict = query_engine.get_prompts()\n",
    "print(prompts_dict[\"response_synthesizer:text_qa_template\"].get_template())"
   ]
  },
  {
   "cell_type": "markdown",
   "metadata": {},
   "source": [
    "#### 3.4 Final prompt"
   ]
  },
  {
   "cell_type": "code",
   "execution_count": 11,
   "metadata": {},
   "outputs": [],
   "source": [
    "import llama_index.core\n",
    "\n",
    "llama_index.core.set_global_handler(\"simple\")"
   ]
  },
  {
   "cell_type": "code",
   "execution_count": 12,
   "metadata": {},
   "outputs": [],
   "source": [
    "import logging\n",
    "import sys\n",
    "\n",
    "logging.basicConfig(stream=sys.stdout, level=logging.DEBUG)\n",
    "logging.getLogger().addHandler(logging.StreamHandler(stream=sys.stdout))"
   ]
  },
  {
   "cell_type": "code",
   "execution_count": 13,
   "metadata": {},
   "outputs": [],
   "source": [
    "# response = query_engine.query(\"What did the author do growing uuup?\")\n",
    "# response.response"
   ]
  }
 ],
 "metadata": {
  "kernelspec": {
   "display_name": ".venv",
   "language": "python",
   "name": "python3"
  },
  "language_info": {
   "codemirror_mode": {
    "name": "ipython",
    "version": 3
   },
   "file_extension": ".py",
   "mimetype": "text/x-python",
   "name": "python",
   "nbconvert_exporter": "python",
   "pygments_lexer": "ipython3",
   "version": "3.12.3"
  }
 },
 "nbformat": 4,
 "nbformat_minor": 2
}
