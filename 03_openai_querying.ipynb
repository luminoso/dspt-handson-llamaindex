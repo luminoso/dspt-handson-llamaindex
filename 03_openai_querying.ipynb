{
 "cells": [
  {
   "cell_type": "markdown",
   "metadata": {},
   "source": [
    "<img src=\"./figs/stages.png\" height=100px/>"
   ]
  },
  {
   "cell_type": "code",
   "execution_count": 1,
   "metadata": {},
   "outputs": [],
   "source": [
    "import warnings\n",
    "\n",
    "warnings.filterwarnings(\"ignore\")\n",
    "\n",
    "from llama_index.core import SimpleDirectoryReader\n",
    "from llama_index.core import VectorStoreIndex, SimpleDirectoryReader\n",
    "\n",
    "\n",
    "documents = SimpleDirectoryReader(\"./data\").load_data()\n",
    "index = VectorStoreIndex.from_documents(documents)"
   ]
  },
  {
   "cell_type": "markdown",
   "metadata": {},
   "source": [
    "### 3. Querying\n",
    "\n",
    "#### 3.1 Retrieve"
   ]
  },
  {
   "cell_type": "code",
   "execution_count": 2,
   "metadata": {},
   "outputs": [],
   "source": [
    "from llama_index.core.retrievers import VectorIndexRetriever\n",
    "\n",
    "retriever = VectorIndexRetriever(\n",
    "    index=index,\n",
    "    similarity_top_k=3,\n",
    ")"
   ]
  },
  {
   "cell_type": "code",
   "execution_count": 3,
   "metadata": {},
   "outputs": [],
   "source": [
    "retrieved_documents = retriever.retrieve(\"What's UA mission?\")"
   ]
  },
  {
   "cell_type": "code",
   "execution_count": 4,
   "metadata": {},
   "outputs": [
    {
     "data": {
      "text/plain": [
       "3"
      ]
     },
     "execution_count": 4,
     "metadata": {},
     "output_type": "execute_result"
    }
   ],
   "source": [
    "len(retrieved_documents)"
   ]
  },
  {
   "cell_type": "code",
   "execution_count": 5,
   "metadata": {},
   "outputs": [
    {
     "data": {
      "text/plain": [
       "0.8314836327430332"
      ]
     },
     "execution_count": 5,
     "metadata": {},
     "output_type": "execute_result"
    }
   ],
   "source": [
    "# each document has a similarity score\n",
    "retrieved_documents[0].score"
   ]
  },
  {
   "cell_type": "code",
   "execution_count": 6,
   "metadata": {},
   "outputs": [
    {
     "data": {
      "text/plain": [
       "\"The 1990s marked a new phase in the UA's evolution. New priorities such as internationalisation and cooperation are redefined, namely through participation in European programmes, strengthening relations with Portuguese-speaking and Latin American countries, participating in networks and consortia of international universities and signing protocols with institutions,organisations and companies in Portugal and abroad.\\n\\nThe collaboration of Aveiro University with the local community and society as as whole is reinforced by the UA's engagement in promoting the transfer of knowledge, technology and innovation within the world of business. At the same time, decisive steps are being taken to promote continuous training and distance learning programmes, which were becoming increasingly important in meeting the educational needs of different publics. In the course of its growth, the University has always striven to provide students and lecturers with excellent working spaces, scientific infrastructures and teaching conditions.\\n\\nDuring the second mandate of the fourth rector, Júlio Pedrosa, the academic population exceeded 8000 students and research had attained high quality standards. The dynamism of the University's teaching staff and its researchers would result in the UA becoming the Portuguese University with the largest number of internationally recognised research projects, a characteristic that it still maintains today.\\n\\nThe first mandate of the sixth rector of the UA, Maria Helena Nazaré, was marked by the launch of the UA's teaching programme and technical and professional training programmes (in the academic year 2002/2003). Since then, not only has the UA Post-Secondary Education Programme been extended to other municipalities, but the range of Technological Specialization Courses (CETs) has also increased, and now professional higher technical courses (TESP) are also being offered.\\n\\nThe two mandates of the seventh rector of the UA, Manuel António Assunção, between 2010-2014 and 2014-2018, are marked by a commitment to a Thinking, Feeling Campus and to the consolidation of the UA concept, as well as its affirmation as an international benchmark.\\n\\nOn March 13, 2018, Paulo Jorge Ferreira was elected rector of the UA.\""
      ]
     },
     "execution_count": 6,
     "metadata": {},
     "output_type": "execute_result"
    }
   ],
   "source": [
    "retrieved_documents[0].text"
   ]
  },
  {
   "cell_type": "code",
   "execution_count": 7,
   "metadata": {},
   "outputs": [
    {
     "data": {
      "text/plain": [
       "{'file_path': '/var/home/luminoso/clouds/github/dspt-handson-llamaindex/data/about_ua.txt',\n",
       " 'file_name': 'about_ua.txt',\n",
       " 'file_type': 'text/plain',\n",
       " 'file_size': 6110,\n",
       " 'creation_date': '2024-05-27',\n",
       " 'last_modified_date': '2024-05-27'}"
      ]
     },
     "execution_count": 7,
     "metadata": {},
     "output_type": "execute_result"
    }
   ],
   "source": [
    "retrieved_documents[0].metadata"
   ]
  },
  {
   "cell_type": "code",
   "execution_count": 8,
   "metadata": {},
   "outputs": [],
   "source": [
    "retrieved_documents = retriever.retrieve(\"What's in the food menu for friday dinner?\")"
   ]
  },
  {
   "cell_type": "code",
   "execution_count": 9,
   "metadata": {},
   "outputs": [
    {
     "data": {
      "text/plain": [
       "'Cantina Santiago\\nCantina com serviço de takeaway ao almoço - pode encomendar até às 11h do próprio dia\\n\\n \\nDia \\tEmenta \\t\\t\\nAlmoço Terça 28/05/2024 \\t\\nSopa - Creme de ervilhas\\nPrato Carne - Rojões e batata corada\\nPrato Peixe - Carapau grelhado com arroz de espinafres e cenoura\\nPrato Vegetariano - Bolonhesa de soja e massa integral\\n\\t\\t\\nJantar Terça 28/05/2024 \\t\\nSopa - Creme de ervilhas\\nPrato Peixe - Massada de marisco\\nprato Vegetariano - Tofu salteado com alho francês e batata\\n\\t\\t\\nAlmoço Quarta 29/05/2024 \\t\\nSopa - Caldo verde\\nPrato Carne - Strogonoff de vitela e puré de batata\\nPrato Peixe - Solha frita e arroz de tomate\\nPrato Vegetariano - Paella e arroz integral\\n\\nJantar Quarta 29/05/2024 \\t\\nSopa - Caldo verde\\nPrato Carne - Peito de peru com molho de mostarda e arroz\\nPrato Vegetariano - Seitan agridoce e millet\\n\\nAlmoço Quinta 30/05/2024 \\t\\nENCERRADO - FERIADO\\n\\t\\t\\nJantar Quinta 30/05/2024 \\t\\nENCERRADO - FERIADO\\n\\t\\t\\nAlmoço Sexta 31/05/2024 \\t\\nSopa - Sopa de espinafres\\nPrato Carne - Chanfana de borrego e arroz de louro\\nPrato Peixe - Meia desfeita de bacalhau com batata cozida e grão\\nPrato Vegetariano - Jardineira de tofu e batata\\n\\nJantar Sexta 31/05/2024 \\t\\nSopa - Sopa de espinafres\\nPrato Carne - Jardineira mista e batata\\nPrato Vegetariano - Caçarola de legumes e massa integral'"
      ]
     },
     "execution_count": 9,
     "metadata": {},
     "output_type": "execute_result"
    }
   ],
   "source": [
    "retrieved_documents[0].text"
   ]
  },
  {
   "cell_type": "markdown",
   "metadata": {},
   "source": [
    "#### 3.2 Mixing sources and prompt"
   ]
  },
  {
   "cell_type": "code",
   "execution_count": 10,
   "metadata": {},
   "outputs": [],
   "source": [
    "query_engine = index.as_query_engine()"
   ]
  },
  {
   "cell_type": "code",
   "execution_count": 11,
   "metadata": {},
   "outputs": [
    {
     "name": "stdout",
     "output_type": "stream",
     "text": [
      "Context information is below.\n",
      "---------------------\n",
      "{context_str}\n",
      "---------------------\n",
      "Given the context information and not prior knowledge, answer the query.\n",
      "Query: {query_str}\n",
      "Answer: \n"
     ]
    }
   ],
   "source": [
    "prompts_dict = query_engine.get_prompts()\n",
    "print(prompts_dict[\"response_synthesizer:text_qa_template\"].get_template())"
   ]
  },
  {
   "cell_type": "markdown",
   "metadata": {},
   "source": [
    "#### 3.4 Final prompt"
   ]
  },
  {
   "cell_type": "code",
   "execution_count": 12,
   "metadata": {},
   "outputs": [],
   "source": [
    "import llama_index.core\n",
    "\n",
    "llama_index.core.set_global_handler(\"simple\")"
   ]
  },
  {
   "cell_type": "code",
   "execution_count": 13,
   "metadata": {},
   "outputs": [],
   "source": [
    "import logging\n",
    "import sys\n",
    "\n",
    "logging.basicConfig(stream=sys.stdout, level=logging.DEBUG)\n",
    "logging.getLogger().addHandler(logging.StreamHandler(stream=sys.stdout))"
   ]
  },
  {
   "cell_type": "code",
   "execution_count": 14,
   "metadata": {},
   "outputs": [
    {
     "name": "stdout",
     "output_type": "stream",
     "text": [
      "DEBUG:openai._base_client:Request options: {'method': 'post', 'url': '/embeddings', 'files': None, 'post_parser': <function Embeddings.create.<locals>.parser at 0x7f3ad737bf60>, 'json_data': {'input': [\"What's in the menu for friday dinner?\"], 'model': 'text-embedding-ada-002', 'encoding_format': 'base64'}}\n",
      "Request options: {'method': 'post', 'url': '/embeddings', 'files': None, 'post_parser': <function Embeddings.create.<locals>.parser at 0x7f3ad737bf60>, 'json_data': {'input': [\"What's in the menu for friday dinner?\"], 'model': 'text-embedding-ada-002', 'encoding_format': 'base64'}}\n",
      "DEBUG:openai._base_client:Sending HTTP Request: POST https://api.openai.com/v1/embeddings\n",
      "Sending HTTP Request: POST https://api.openai.com/v1/embeddings\n",
      "DEBUG:httpcore.http11:send_request_headers.started request=<Request [b'POST']>\n",
      "send_request_headers.started request=<Request [b'POST']>\n",
      "DEBUG:httpcore.http11:send_request_headers.complete\n",
      "send_request_headers.complete\n",
      "DEBUG:httpcore.http11:send_request_body.started request=<Request [b'POST']>\n",
      "send_request_body.started request=<Request [b'POST']>\n",
      "DEBUG:httpcore.http11:send_request_body.complete\n",
      "send_request_body.complete\n",
      "DEBUG:httpcore.http11:receive_response_headers.started request=<Request [b'POST']>\n",
      "receive_response_headers.started request=<Request [b'POST']>\n",
      "DEBUG:httpcore.http11:receive_response_headers.complete return_value=(b'HTTP/1.1', 200, b'OK', [(b'Date', b'Thu, 30 May 2024 09:52:07 GMT'), (b'Content-Type', b'application/json'), (b'Transfer-Encoding', b'chunked'), (b'Connection', b'keep-alive'), (b'access-control-allow-origin', b'*'), (b'openai-model', b'text-embedding-ada-002'), (b'openai-organization', b'user-xhrdlmxmlkmyoatqaymlwcaj'), (b'openai-processing-ms', b'19'), (b'openai-version', b'2020-10-01'), (b'strict-transport-security', b'max-age=15724800; includeSubDomains'), (b'x-ratelimit-limit-requests', b'3000'), (b'x-ratelimit-limit-tokens', b'1000000'), (b'x-ratelimit-remaining-requests', b'2999'), (b'x-ratelimit-remaining-tokens', b'999990'), (b'x-ratelimit-reset-requests', b'20ms'), (b'x-ratelimit-reset-tokens', b'0s'), (b'x-request-id', b'req_474baf388f8d06be0b9b269bc477c68e'), (b'CF-Cache-Status', b'DYNAMIC'), (b'Server', b'cloudflare'), (b'CF-RAY', b'88bdd45e4b64691a-LIS'), (b'Content-Encoding', b'gzip'), (b'alt-svc', b'h3=\":443\"; ma=86400')])\n",
      "receive_response_headers.complete return_value=(b'HTTP/1.1', 200, b'OK', [(b'Date', b'Thu, 30 May 2024 09:52:07 GMT'), (b'Content-Type', b'application/json'), (b'Transfer-Encoding', b'chunked'), (b'Connection', b'keep-alive'), (b'access-control-allow-origin', b'*'), (b'openai-model', b'text-embedding-ada-002'), (b'openai-organization', b'user-xhrdlmxmlkmyoatqaymlwcaj'), (b'openai-processing-ms', b'19'), (b'openai-version', b'2020-10-01'), (b'strict-transport-security', b'max-age=15724800; includeSubDomains'), (b'x-ratelimit-limit-requests', b'3000'), (b'x-ratelimit-limit-tokens', b'1000000'), (b'x-ratelimit-remaining-requests', b'2999'), (b'x-ratelimit-remaining-tokens', b'999990'), (b'x-ratelimit-reset-requests', b'20ms'), (b'x-ratelimit-reset-tokens', b'0s'), (b'x-request-id', b'req_474baf388f8d06be0b9b269bc477c68e'), (b'CF-Cache-Status', b'DYNAMIC'), (b'Server', b'cloudflare'), (b'CF-RAY', b'88bdd45e4b64691a-LIS'), (b'Content-Encoding', b'gzip'), (b'alt-svc', b'h3=\":443\"; ma=86400')])\n",
      "INFO:httpx:HTTP Request: POST https://api.openai.com/v1/embeddings \"HTTP/1.1 200 OK\"\n",
      "HTTP Request: POST https://api.openai.com/v1/embeddings \"HTTP/1.1 200 OK\"\n",
      "DEBUG:httpcore.http11:receive_response_body.started request=<Request [b'POST']>\n",
      "receive_response_body.started request=<Request [b'POST']>\n",
      "DEBUG:httpcore.http11:receive_response_body.complete\n",
      "receive_response_body.complete\n",
      "DEBUG:httpcore.http11:response_closed.started\n",
      "response_closed.started\n",
      "DEBUG:httpcore.http11:response_closed.complete\n",
      "response_closed.complete\n",
      "DEBUG:openai._base_client:HTTP Response: POST https://api.openai.com/v1/embeddings \"200 OK\" Headers({'date': 'Thu, 30 May 2024 09:52:07 GMT', 'content-type': 'application/json', 'transfer-encoding': 'chunked', 'connection': 'keep-alive', 'access-control-allow-origin': '*', 'openai-model': 'text-embedding-ada-002', 'openai-organization': 'user-xhrdlmxmlkmyoatqaymlwcaj', 'openai-processing-ms': '19', 'openai-version': '2020-10-01', 'strict-transport-security': 'max-age=15724800; includeSubDomains', 'x-ratelimit-limit-requests': '3000', 'x-ratelimit-limit-tokens': '1000000', 'x-ratelimit-remaining-requests': '2999', 'x-ratelimit-remaining-tokens': '999990', 'x-ratelimit-reset-requests': '20ms', 'x-ratelimit-reset-tokens': '0s', 'x-request-id': 'req_474baf388f8d06be0b9b269bc477c68e', 'cf-cache-status': 'DYNAMIC', 'server': 'cloudflare', 'cf-ray': '88bdd45e4b64691a-LIS', 'content-encoding': 'gzip', 'alt-svc': 'h3=\":443\"; ma=86400'})\n",
      "HTTP Response: POST https://api.openai.com/v1/embeddings \"200 OK\" Headers({'date': 'Thu, 30 May 2024 09:52:07 GMT', 'content-type': 'application/json', 'transfer-encoding': 'chunked', 'connection': 'keep-alive', 'access-control-allow-origin': '*', 'openai-model': 'text-embedding-ada-002', 'openai-organization': 'user-xhrdlmxmlkmyoatqaymlwcaj', 'openai-processing-ms': '19', 'openai-version': '2020-10-01', 'strict-transport-security': 'max-age=15724800; includeSubDomains', 'x-ratelimit-limit-requests': '3000', 'x-ratelimit-limit-tokens': '1000000', 'x-ratelimit-remaining-requests': '2999', 'x-ratelimit-remaining-tokens': '999990', 'x-ratelimit-reset-requests': '20ms', 'x-ratelimit-reset-tokens': '0s', 'x-request-id': 'req_474baf388f8d06be0b9b269bc477c68e', 'cf-cache-status': 'DYNAMIC', 'server': 'cloudflare', 'cf-ray': '88bdd45e4b64691a-LIS', 'content-encoding': 'gzip', 'alt-svc': 'h3=\":443\"; ma=86400'})\n",
      "DEBUG:openai._base_client:request_id: req_474baf388f8d06be0b9b269bc477c68e\n",
      "request_id: req_474baf388f8d06be0b9b269bc477c68e\n",
      "DEBUG:llama_index.core.indices.utils:> Top 2 nodes:\n",
      "> [Node ac78e71f-6c59-430a-b06c-3b1891ec113b] [Similarity score:             0.798249] Cantina Santiago\n",
      "Cantina com serviço de takeaway ao almoço - pode encomendar até às 11h do própri...\n",
      "> [Node 8fa7994f-cf10-4b41-9a8f-37812b244fcf] [Similarity score:             0.727259] If he even knew about the strange classes I was taking, he never said anything.\n",
      "\n",
      "So now I was in ...\n",
      "> Top 2 nodes:\n",
      "> [Node ac78e71f-6c59-430a-b06c-3b1891ec113b] [Similarity score:             0.798249] Cantina Santiago\n",
      "Cantina com serviço de takeaway ao almoço - pode encomendar até às 11h do própri...\n",
      "> [Node 8fa7994f-cf10-4b41-9a8f-37812b244fcf] [Similarity score:             0.727259] If he even knew about the strange classes I was taking, he never said anything.\n",
      "\n",
      "So now I was in ...\n",
      "DEBUG:httpx:load_ssl_context verify=True cert=None trust_env=True http2=False\n",
      "load_ssl_context verify=True cert=None trust_env=True http2=False\n",
      "DEBUG:httpx:load_verify_locations cafile='/home/luminoso/clouds/github/dspt-handson-llamaindex/.venv/lib64/python3.12/site-packages/certifi/cacert.pem'\n",
      "load_verify_locations cafile='/home/luminoso/clouds/github/dspt-handson-llamaindex/.venv/lib64/python3.12/site-packages/certifi/cacert.pem'\n",
      "DEBUG:openai._base_client:Request options: {'method': 'post', 'url': '/chat/completions', 'files': None, 'json_data': {'messages': [{'role': 'system', 'content': \"You are an expert Q&A system that is trusted around the world.\\nAlways answer the query using the provided context information, and not prior knowledge.\\nSome rules to follow:\\n1. Never directly reference the given context in your answer.\\n2. Avoid statements like 'Based on the context, ...' or 'The context information ...' or anything along those lines.\"}, {'role': 'user', 'content': 'Context information is below.\\n---------------------\\nfile_path: /var/home/luminoso/clouds/github/dspt-handson-llamaindex/data/food_menu.txt\\n\\nCantina Santiago\\nCantina com serviço de takeaway ao almoço - pode encomendar até às 11h do próprio dia\\n\\n \\nDia \\tEmenta \\t\\t\\nAlmoço Terça 28/05/2024 \\t\\nSopa - Creme de ervilhas\\nPrato Carne - Rojões e batata corada\\nPrato Peixe - Carapau grelhado com arroz de espinafres e cenoura\\nPrato Vegetariano - Bolonhesa de soja e massa integral\\n\\t\\t\\nJantar Terça 28/05/2024 \\t\\nSopa - Creme de ervilhas\\nPrato Peixe - Massada de marisco\\nprato Vegetariano - Tofu salteado com alho francês e batata\\n\\t\\t\\nAlmoço Quarta 29/05/2024 \\t\\nSopa - Caldo verde\\nPrato Carne - Strogonoff de vitela e puré de batata\\nPrato Peixe - Solha frita e arroz de tomate\\nPrato Vegetariano - Paella e arroz integral\\n\\nJantar Quarta 29/05/2024 \\t\\nSopa - Caldo verde\\nPrato Carne - Peito de peru com molho de mostarda e arroz\\nPrato Vegetariano - Seitan agridoce e millet\\n\\nAlmoço Quinta 30/05/2024 \\t\\nENCERRADO - FERIADO\\n\\t\\t\\nJantar Quinta 30/05/2024 \\t\\nENCERRADO - FERIADO\\n\\t\\t\\nAlmoço Sexta 31/05/2024 \\t\\nSopa - Sopa de espinafres\\nPrato Carne - Chanfana de borrego e arroz de louro\\nPrato Peixe - Meia desfeita de bacalhau com batata cozida e grão\\nPrato Vegetariano - Jardineira de tofu e batata\\n\\nJantar Sexta 31/05/2024 \\t\\nSopa - Sopa de espinafres\\nPrato Carne - Jardineira mista e batata\\nPrato Vegetariano - Caçarola de legumes e massa integral\\n\\nfile_path: /var/home/luminoso/clouds/github/dspt-handson-llamaindex/data/paul_graham_essay.txt\\n\\nIf he even knew about the strange classes I was taking, he never said anything.\\n\\nSo now I was in a PhD program in computer science, yet planning to be an artist, yet also genuinely in love with Lisp hacking and working away at On Lisp. In other words, like many a grad student, I was working energetically on multiple projects that were not my thesis.\\n\\nI didn\\'t see a way out of this situation. I didn\\'t want to drop out of grad school, but how else was I going to get out? I remember when my friend Robert Morris got kicked out of Cornell for writing the internet worm of 1988, I was envious that he\\'d found such a spectacular way to get out of grad school.\\n\\nThen one day in April 1990 a crack appeared in the wall. I ran into professor Cheatham and he asked if I was far enough along to graduate that June. I didn\\'t have a word of my dissertation written, but in what must have been the quickest bit of thinking in my life, I decided to take a shot at writing one in the 5 weeks or so that remained before the deadline, reusing parts of On Lisp where I could, and I was able to respond, with no perceptible delay \"Yes, I think so. I\\'ll give you something to read in a few days.\"\\n\\nI picked applications of continuations as the topic. In retrospect I should have written about macros and embedded languages. There\\'s a whole world there that\\'s barely been explored. But all I wanted was to get out of grad school, and my rapidly written dissertation sufficed, just barely.\\n\\nMeanwhile I was applying to art schools. I applied to two: RISD in the US, and the Accademia di Belli Arti in Florence, which, because it was the oldest art school, I imagined would be good. RISD accepted me, and I never heard back from the Accademia, so off to Providence I went.\\n\\nI\\'d applied for the BFA program at RISD, which meant in effect that I had to go to college again. This was not as strange as it sounds, because I was only 25, and art schools are full of people of different ages. RISD counted me as a transfer sophomore and said I had to do the foundation that summer. The foundation means the classes that everyone has to take in fundamental subjects like drawing, color, and design.\\n\\nToward the end of the summer I got a big surprise: a letter from the Accademia, which had been delayed because they\\'d sent it to Cambridge England instead of Cambridge Massachusetts, inviting me to take the entrance exam in Florence that fall. This was now only weeks away. My nice landlady let me leave my stuff in her attic. I had some money saved from consulting work I\\'d done in grad school; there was probably enough to last a year if I lived cheaply. Now all I had to do was learn Italian.\\n\\nOnly stranieri (foreigners) had to take this entrance exam. In retrospect it may well have been a way of excluding them, because there were so many stranieri attracted by the idea of studying art in Florence that the Italian students would otherwise have been outnumbered. I was in decent shape at painting and drawing from the RISD foundation that summer, but I still don\\'t know how I managed to pass the written exam. I remember that I answered the essay question by writing about Cezanne, and that I cranked up the intellectual level as high as I could to make the most of my limited vocabulary. [2]\\n\\nI\\'m only up to age 25 and already there are such conspicuous patterns. Here I was, yet again about to attend some august institution in the hopes of learning about some prestigious subject, and yet again about to be disappointed. The students and faculty in the painting department at the Accademia were the nicest people you could imagine, but they had long since arrived at an arrangement whereby the students wouldn\\'t require the faculty to teach anything, and in return the faculty wouldn\\'t require the students to learn anything. And at the same time all involved would adhere outwardly to the conventions of a 19th century atelier. We actually had one of those little stoves, fed with kindling, that you see in 19th century studio paintings, and a nude model sitting as close to it as possible without getting burned. Except hardly anyone else painted her besides me. The rest of the students spent their time chatting or occasionally trying to imitate things they\\'d seen in American art magazines.\\n\\nOur model turned out to live just down the street from me.\\n---------------------\\nGiven the context information and not prior knowledge, answer the query.\\nQuery: What\\'s in the menu for friday dinner?\\nAnswer: '}], 'model': 'gpt-3.5-turbo', 'stream': False, 'temperature': 0.1}}\n",
      "Request options: {'method': 'post', 'url': '/chat/completions', 'files': None, 'json_data': {'messages': [{'role': 'system', 'content': \"You are an expert Q&A system that is trusted around the world.\\nAlways answer the query using the provided context information, and not prior knowledge.\\nSome rules to follow:\\n1. Never directly reference the given context in your answer.\\n2. Avoid statements like 'Based on the context, ...' or 'The context information ...' or anything along those lines.\"}, {'role': 'user', 'content': 'Context information is below.\\n---------------------\\nfile_path: /var/home/luminoso/clouds/github/dspt-handson-llamaindex/data/food_menu.txt\\n\\nCantina Santiago\\nCantina com serviço de takeaway ao almoço - pode encomendar até às 11h do próprio dia\\n\\n \\nDia \\tEmenta \\t\\t\\nAlmoço Terça 28/05/2024 \\t\\nSopa - Creme de ervilhas\\nPrato Carne - Rojões e batata corada\\nPrato Peixe - Carapau grelhado com arroz de espinafres e cenoura\\nPrato Vegetariano - Bolonhesa de soja e massa integral\\n\\t\\t\\nJantar Terça 28/05/2024 \\t\\nSopa - Creme de ervilhas\\nPrato Peixe - Massada de marisco\\nprato Vegetariano - Tofu salteado com alho francês e batata\\n\\t\\t\\nAlmoço Quarta 29/05/2024 \\t\\nSopa - Caldo verde\\nPrato Carne - Strogonoff de vitela e puré de batata\\nPrato Peixe - Solha frita e arroz de tomate\\nPrato Vegetariano - Paella e arroz integral\\n\\nJantar Quarta 29/05/2024 \\t\\nSopa - Caldo verde\\nPrato Carne - Peito de peru com molho de mostarda e arroz\\nPrato Vegetariano - Seitan agridoce e millet\\n\\nAlmoço Quinta 30/05/2024 \\t\\nENCERRADO - FERIADO\\n\\t\\t\\nJantar Quinta 30/05/2024 \\t\\nENCERRADO - FERIADO\\n\\t\\t\\nAlmoço Sexta 31/05/2024 \\t\\nSopa - Sopa de espinafres\\nPrato Carne - Chanfana de borrego e arroz de louro\\nPrato Peixe - Meia desfeita de bacalhau com batata cozida e grão\\nPrato Vegetariano - Jardineira de tofu e batata\\n\\nJantar Sexta 31/05/2024 \\t\\nSopa - Sopa de espinafres\\nPrato Carne - Jardineira mista e batata\\nPrato Vegetariano - Caçarola de legumes e massa integral\\n\\nfile_path: /var/home/luminoso/clouds/github/dspt-handson-llamaindex/data/paul_graham_essay.txt\\n\\nIf he even knew about the strange classes I was taking, he never said anything.\\n\\nSo now I was in a PhD program in computer science, yet planning to be an artist, yet also genuinely in love with Lisp hacking and working away at On Lisp. In other words, like many a grad student, I was working energetically on multiple projects that were not my thesis.\\n\\nI didn\\'t see a way out of this situation. I didn\\'t want to drop out of grad school, but how else was I going to get out? I remember when my friend Robert Morris got kicked out of Cornell for writing the internet worm of 1988, I was envious that he\\'d found such a spectacular way to get out of grad school.\\n\\nThen one day in April 1990 a crack appeared in the wall. I ran into professor Cheatham and he asked if I was far enough along to graduate that June. I didn\\'t have a word of my dissertation written, but in what must have been the quickest bit of thinking in my life, I decided to take a shot at writing one in the 5 weeks or so that remained before the deadline, reusing parts of On Lisp where I could, and I was able to respond, with no perceptible delay \"Yes, I think so. I\\'ll give you something to read in a few days.\"\\n\\nI picked applications of continuations as the topic. In retrospect I should have written about macros and embedded languages. There\\'s a whole world there that\\'s barely been explored. But all I wanted was to get out of grad school, and my rapidly written dissertation sufficed, just barely.\\n\\nMeanwhile I was applying to art schools. I applied to two: RISD in the US, and the Accademia di Belli Arti in Florence, which, because it was the oldest art school, I imagined would be good. RISD accepted me, and I never heard back from the Accademia, so off to Providence I went.\\n\\nI\\'d applied for the BFA program at RISD, which meant in effect that I had to go to college again. This was not as strange as it sounds, because I was only 25, and art schools are full of people of different ages. RISD counted me as a transfer sophomore and said I had to do the foundation that summer. The foundation means the classes that everyone has to take in fundamental subjects like drawing, color, and design.\\n\\nToward the end of the summer I got a big surprise: a letter from the Accademia, which had been delayed because they\\'d sent it to Cambridge England instead of Cambridge Massachusetts, inviting me to take the entrance exam in Florence that fall. This was now only weeks away. My nice landlady let me leave my stuff in her attic. I had some money saved from consulting work I\\'d done in grad school; there was probably enough to last a year if I lived cheaply. Now all I had to do was learn Italian.\\n\\nOnly stranieri (foreigners) had to take this entrance exam. In retrospect it may well have been a way of excluding them, because there were so many stranieri attracted by the idea of studying art in Florence that the Italian students would otherwise have been outnumbered. I was in decent shape at painting and drawing from the RISD foundation that summer, but I still don\\'t know how I managed to pass the written exam. I remember that I answered the essay question by writing about Cezanne, and that I cranked up the intellectual level as high as I could to make the most of my limited vocabulary. [2]\\n\\nI\\'m only up to age 25 and already there are such conspicuous patterns. Here I was, yet again about to attend some august institution in the hopes of learning about some prestigious subject, and yet again about to be disappointed. The students and faculty in the painting department at the Accademia were the nicest people you could imagine, but they had long since arrived at an arrangement whereby the students wouldn\\'t require the faculty to teach anything, and in return the faculty wouldn\\'t require the students to learn anything. And at the same time all involved would adhere outwardly to the conventions of a 19th century atelier. We actually had one of those little stoves, fed with kindling, that you see in 19th century studio paintings, and a nude model sitting as close to it as possible without getting burned. Except hardly anyone else painted her besides me. The rest of the students spent their time chatting or occasionally trying to imitate things they\\'d seen in American art magazines.\\n\\nOur model turned out to live just down the street from me.\\n---------------------\\nGiven the context information and not prior knowledge, answer the query.\\nQuery: What\\'s in the menu for friday dinner?\\nAnswer: '}], 'model': 'gpt-3.5-turbo', 'stream': False, 'temperature': 0.1}}\n",
      "DEBUG:openai._base_client:Sending HTTP Request: POST https://api.openai.com/v1/chat/completions\n",
      "Sending HTTP Request: POST https://api.openai.com/v1/chat/completions\n",
      "DEBUG:httpcore.connection:connect_tcp.started host='api.openai.com' port=443 local_address=None timeout=60.0 socket_options=None\n",
      "connect_tcp.started host='api.openai.com' port=443 local_address=None timeout=60.0 socket_options=None\n",
      "DEBUG:httpcore.connection:connect_tcp.complete return_value=<httpcore._backends.sync.SyncStream object at 0x7f3ad6c63290>\n",
      "connect_tcp.complete return_value=<httpcore._backends.sync.SyncStream object at 0x7f3ad6c63290>\n",
      "DEBUG:httpcore.connection:start_tls.started ssl_context=<ssl.SSLContext object at 0x7f3ad6f6fed0> server_hostname='api.openai.com' timeout=60.0\n",
      "start_tls.started ssl_context=<ssl.SSLContext object at 0x7f3ad6f6fed0> server_hostname='api.openai.com' timeout=60.0\n",
      "DEBUG:httpcore.connection:start_tls.complete return_value=<httpcore._backends.sync.SyncStream object at 0x7f3ad6c63200>\n",
      "start_tls.complete return_value=<httpcore._backends.sync.SyncStream object at 0x7f3ad6c63200>\n",
      "DEBUG:httpcore.http11:send_request_headers.started request=<Request [b'POST']>\n",
      "send_request_headers.started request=<Request [b'POST']>\n",
      "DEBUG:httpcore.http11:send_request_headers.complete\n",
      "send_request_headers.complete\n",
      "DEBUG:httpcore.http11:send_request_body.started request=<Request [b'POST']>\n",
      "send_request_body.started request=<Request [b'POST']>\n",
      "DEBUG:httpcore.http11:send_request_body.complete\n",
      "send_request_body.complete\n",
      "DEBUG:httpcore.http11:receive_response_headers.started request=<Request [b'POST']>\n",
      "receive_response_headers.started request=<Request [b'POST']>\n",
      "DEBUG:httpcore.http11:receive_response_headers.complete return_value=(b'HTTP/1.1', 200, b'OK', [(b'Date', b'Thu, 30 May 2024 09:52:08 GMT'), (b'Content-Type', b'application/json'), (b'Transfer-Encoding', b'chunked'), (b'Connection', b'keep-alive'), (b'openai-organization', b'user-xhrdlmxmlkmyoatqaymlwcaj'), (b'openai-processing-ms', b'734'), (b'openai-version', b'2020-10-01'), (b'strict-transport-security', b'max-age=15724800; includeSubDomains'), (b'x-ratelimit-limit-requests', b'10000'), (b'x-ratelimit-limit-tokens', b'60000'), (b'x-ratelimit-remaining-requests', b'9999'), (b'x-ratelimit-remaining-tokens', b'58388'), (b'x-ratelimit-reset-requests', b'8.64s'), (b'x-ratelimit-reset-tokens', b'1.612s'), (b'x-request-id', b'req_46209433126447fb707653fb28021024'), (b'CF-Cache-Status', b'DYNAMIC'), (b'Set-Cookie', b'__cf_bm=0M5SvPmNl3bSrQS1BMBBzMGwdFnE2YcFQUFtfKgB.AQ-1717062728-1.0.1.1-LxoMrOaXklwk2Gu9L3zcoHp2dv7Vt68NHAr.jHx1.KEwydgpkUk_IZA1xaAlLU4r9Tv.VTBPOA5Tp58thkHgrA; path=/; expires=Thu, 30-May-24 10:22:08 GMT; domain=.api.openai.com; HttpOnly; Secure; SameSite=None'), (b'Set-Cookie', b'_cfuvid=qixuH5rNmN9KDvbAbdh0sIut4n.hALxGdFc5CRtbTW8-1717062728700-0.0.1.1-604800000; path=/; domain=.api.openai.com; HttpOnly; Secure; SameSite=None'), (b'Server', b'cloudflare'), (b'CF-RAY', b'88bdd460082c7110-LIS'), (b'Content-Encoding', b'gzip'), (b'alt-svc', b'h3=\":443\"; ma=86400')])\n",
      "receive_response_headers.complete return_value=(b'HTTP/1.1', 200, b'OK', [(b'Date', b'Thu, 30 May 2024 09:52:08 GMT'), (b'Content-Type', b'application/json'), (b'Transfer-Encoding', b'chunked'), (b'Connection', b'keep-alive'), (b'openai-organization', b'user-xhrdlmxmlkmyoatqaymlwcaj'), (b'openai-processing-ms', b'734'), (b'openai-version', b'2020-10-01'), (b'strict-transport-security', b'max-age=15724800; includeSubDomains'), (b'x-ratelimit-limit-requests', b'10000'), (b'x-ratelimit-limit-tokens', b'60000'), (b'x-ratelimit-remaining-requests', b'9999'), (b'x-ratelimit-remaining-tokens', b'58388'), (b'x-ratelimit-reset-requests', b'8.64s'), (b'x-ratelimit-reset-tokens', b'1.612s'), (b'x-request-id', b'req_46209433126447fb707653fb28021024'), (b'CF-Cache-Status', b'DYNAMIC'), (b'Set-Cookie', b'__cf_bm=0M5SvPmNl3bSrQS1BMBBzMGwdFnE2YcFQUFtfKgB.AQ-1717062728-1.0.1.1-LxoMrOaXklwk2Gu9L3zcoHp2dv7Vt68NHAr.jHx1.KEwydgpkUk_IZA1xaAlLU4r9Tv.VTBPOA5Tp58thkHgrA; path=/; expires=Thu, 30-May-24 10:22:08 GMT; domain=.api.openai.com; HttpOnly; Secure; SameSite=None'), (b'Set-Cookie', b'_cfuvid=qixuH5rNmN9KDvbAbdh0sIut4n.hALxGdFc5CRtbTW8-1717062728700-0.0.1.1-604800000; path=/; domain=.api.openai.com; HttpOnly; Secure; SameSite=None'), (b'Server', b'cloudflare'), (b'CF-RAY', b'88bdd460082c7110-LIS'), (b'Content-Encoding', b'gzip'), (b'alt-svc', b'h3=\":443\"; ma=86400')])\n",
      "INFO:httpx:HTTP Request: POST https://api.openai.com/v1/chat/completions \"HTTP/1.1 200 OK\"\n",
      "HTTP Request: POST https://api.openai.com/v1/chat/completions \"HTTP/1.1 200 OK\"\n",
      "DEBUG:httpcore.http11:receive_response_body.started request=<Request [b'POST']>\n",
      "receive_response_body.started request=<Request [b'POST']>\n",
      "DEBUG:httpcore.http11:receive_response_body.complete\n",
      "receive_response_body.complete\n",
      "DEBUG:httpcore.http11:response_closed.started\n",
      "response_closed.started\n",
      "DEBUG:httpcore.http11:response_closed.complete\n",
      "response_closed.complete\n",
      "DEBUG:openai._base_client:HTTP Response: POST https://api.openai.com/v1/chat/completions \"200 OK\" Headers([('date', 'Thu, 30 May 2024 09:52:08 GMT'), ('content-type', 'application/json'), ('transfer-encoding', 'chunked'), ('connection', 'keep-alive'), ('openai-organization', 'user-xhrdlmxmlkmyoatqaymlwcaj'), ('openai-processing-ms', '734'), ('openai-version', '2020-10-01'), ('strict-transport-security', 'max-age=15724800; includeSubDomains'), ('x-ratelimit-limit-requests', '10000'), ('x-ratelimit-limit-tokens', '60000'), ('x-ratelimit-remaining-requests', '9999'), ('x-ratelimit-remaining-tokens', '58388'), ('x-ratelimit-reset-requests', '8.64s'), ('x-ratelimit-reset-tokens', '1.612s'), ('x-request-id', 'req_46209433126447fb707653fb28021024'), ('cf-cache-status', 'DYNAMIC'), ('set-cookie', '__cf_bm=0M5SvPmNl3bSrQS1BMBBzMGwdFnE2YcFQUFtfKgB.AQ-1717062728-1.0.1.1-LxoMrOaXklwk2Gu9L3zcoHp2dv7Vt68NHAr.jHx1.KEwydgpkUk_IZA1xaAlLU4r9Tv.VTBPOA5Tp58thkHgrA; path=/; expires=Thu, 30-May-24 10:22:08 GMT; domain=.api.openai.com; HttpOnly; Secure; SameSite=None'), ('set-cookie', '_cfuvid=qixuH5rNmN9KDvbAbdh0sIut4n.hALxGdFc5CRtbTW8-1717062728700-0.0.1.1-604800000; path=/; domain=.api.openai.com; HttpOnly; Secure; SameSite=None'), ('server', 'cloudflare'), ('cf-ray', '88bdd460082c7110-LIS'), ('content-encoding', 'gzip'), ('alt-svc', 'h3=\":443\"; ma=86400')])\n",
      "HTTP Response: POST https://api.openai.com/v1/chat/completions \"200 OK\" Headers([('date', 'Thu, 30 May 2024 09:52:08 GMT'), ('content-type', 'application/json'), ('transfer-encoding', 'chunked'), ('connection', 'keep-alive'), ('openai-organization', 'user-xhrdlmxmlkmyoatqaymlwcaj'), ('openai-processing-ms', '734'), ('openai-version', '2020-10-01'), ('strict-transport-security', 'max-age=15724800; includeSubDomains'), ('x-ratelimit-limit-requests', '10000'), ('x-ratelimit-limit-tokens', '60000'), ('x-ratelimit-remaining-requests', '9999'), ('x-ratelimit-remaining-tokens', '58388'), ('x-ratelimit-reset-requests', '8.64s'), ('x-ratelimit-reset-tokens', '1.612s'), ('x-request-id', 'req_46209433126447fb707653fb28021024'), ('cf-cache-status', 'DYNAMIC'), ('set-cookie', '__cf_bm=0M5SvPmNl3bSrQS1BMBBzMGwdFnE2YcFQUFtfKgB.AQ-1717062728-1.0.1.1-LxoMrOaXklwk2Gu9L3zcoHp2dv7Vt68NHAr.jHx1.KEwydgpkUk_IZA1xaAlLU4r9Tv.VTBPOA5Tp58thkHgrA; path=/; expires=Thu, 30-May-24 10:22:08 GMT; domain=.api.openai.com; HttpOnly; Secure; SameSite=None'), ('set-cookie', '_cfuvid=qixuH5rNmN9KDvbAbdh0sIut4n.hALxGdFc5CRtbTW8-1717062728700-0.0.1.1-604800000; path=/; domain=.api.openai.com; HttpOnly; Secure; SameSite=None'), ('server', 'cloudflare'), ('cf-ray', '88bdd460082c7110-LIS'), ('content-encoding', 'gzip'), ('alt-svc', 'h3=\":443\"; ma=86400')])\n",
      "DEBUG:openai._base_client:request_id: req_46209433126447fb707653fb28021024\n",
      "request_id: req_46209433126447fb707653fb28021024\n"
     ]
    },
    {
     "data": {
      "text/plain": [
       "'Sopa - Sopa de espinafres\\nPrato Carne - Jardineira mista e batata\\nPrato Vegetariano - Caçarola de legumes e massa integral'"
      ]
     },
     "execution_count": 14,
     "metadata": {},
     "output_type": "execute_result"
    }
   ],
   "source": [
    "response = query_engine.query(\"What's in the menu for friday dinner?\")\n",
    "response.response"
   ]
  },
  {
   "cell_type": "code",
   "execution_count": null,
   "metadata": {},
   "outputs": [],
   "source": []
  }
 ],
 "metadata": {
  "kernelspec": {
   "display_name": ".venv",
   "language": "python",
   "name": "python3"
  },
  "language_info": {
   "codemirror_mode": {
    "name": "ipython",
    "version": 3
   },
   "file_extension": ".py",
   "mimetype": "text/x-python",
   "name": "python",
   "nbconvert_exporter": "python",
   "pygments_lexer": "ipython3",
   "version": "3.12.3"
  }
 },
 "nbformat": 4,
 "nbformat_minor": 2
}
