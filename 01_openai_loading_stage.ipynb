{
 "cells": [
  {
   "cell_type": "markdown",
   "metadata": {},
   "source": [
    "<img src=\"./figs/stages.png\" height=100px/>"
   ]
  },
  {
   "cell_type": "markdown",
   "metadata": {},
   "source": [
    "## 1. Load Stage\n",
    "\n",
    "### SimpleDirectoryReader \n",
    "\n",
    "By default SimpleDirectoryReader will try to read any files it finds, treating them all as text. In addition to plain text, it explicitly supports the following file types, which are automatically detected based on file extension:\n",
    "\n",
    "- .csv - comma-separated values\n",
    "- .docx - Microsoft Word\n",
    "- .epub - EPUB ebook format\n",
    "- .hwp - Hangul Word Processor\n",
    "- .ipynb - Jupyter Notebook\n",
    "- .jpeg, .jpg - JPEG image\n",
    "- .mbox - MBOX email archive\n",
    "- .md - Markdown\n",
    "- .mp3, .mp4 - audio and video\n",
    "- .pdf - Portable Document Format\n",
    "- .png - Portable Network Graphics\n",
    "- .ppt, .pptm, .pptx - Microsoft PowerPoint\n"
   ]
  },
  {
   "cell_type": "code",
   "execution_count": 1,
   "metadata": {},
   "outputs": [],
   "source": [
    "from llama_index.core import SimpleDirectoryReader\n",
    "\n",
    "documents = SimpleDirectoryReader(\"./data\").load_data()"
   ]
  },
  {
   "cell_type": "code",
   "execution_count": 2,
   "metadata": {},
   "outputs": [
    {
     "data": {
      "text/plain": [
       "6"
      ]
     },
     "execution_count": 2,
     "metadata": {},
     "output_type": "execute_result"
    }
   ],
   "source": [
    "len(documents)"
   ]
  },
  {
   "cell_type": "code",
   "execution_count": 3,
   "metadata": {},
   "outputs": [
    {
     "name": "stdout",
     "output_type": "stream",
     "text": [
      "Doc ID: d18890f5-6c08-4e1b-9378-6e4fd9f5a237\n",
      "Text: History of the University of Aveiro  The University of Aveiro\n",
      "will be built to uphold the serene construction of the future and to\n",
      "defend sacred and enduring values.  This is how the then Minister of\n",
      "Education, José Veiga Simão began his inauguration speech of the first\n",
      "Foundation Commission of the University of Aveiro (UA) on December 15,\n",
      "1973,...\n"
     ]
    }
   ],
   "source": [
    "print(documents[0])"
   ]
  },
  {
   "cell_type": "code",
   "execution_count": 4,
   "metadata": {},
   "outputs": [
    {
     "data": {
      "text/plain": [
       "dict_keys(['id_', 'embedding', 'metadata', 'excluded_embed_metadata_keys', 'excluded_llm_metadata_keys', 'relationships', 'text', 'start_char_idx', 'end_char_idx', 'text_template', 'metadata_template', 'metadata_seperator'])"
      ]
     },
     "execution_count": 4,
     "metadata": {},
     "output_type": "execute_result"
    }
   ],
   "source": [
    "dict(documents[0]).keys()"
   ]
  },
  {
   "cell_type": "code",
   "execution_count": 5,
   "metadata": {},
   "outputs": [
    {
     "data": {
      "text/plain": [
       "'d18890f5-6c08-4e1b-9378-6e4fd9f5a237'"
      ]
     },
     "execution_count": 5,
     "metadata": {},
     "output_type": "execute_result"
    }
   ],
   "source": [
    "documents[0].id_"
   ]
  },
  {
   "cell_type": "code",
   "execution_count": 6,
   "metadata": {},
   "outputs": [
    {
     "data": {
      "text/plain": [
       "{'file_path': '/var/home/luminoso/clouds/github/dspt-handson-llamaindex/data/about_ua.txt',\n",
       " 'file_name': 'about_ua.txt',\n",
       " 'file_type': 'text/plain',\n",
       " 'file_size': 6110,\n",
       " 'creation_date': '2024-05-27',\n",
       " 'last_modified_date': '2024-05-27'}"
      ]
     },
     "execution_count": 6,
     "metadata": {},
     "output_type": "execute_result"
    }
   ],
   "source": [
    "documents[0].metadata"
   ]
  },
  {
   "cell_type": "code",
   "execution_count": 7,
   "metadata": {},
   "outputs": [],
   "source": [
    "documents[0].embedding"
   ]
  },
  {
   "cell_type": "code",
   "execution_count": 8,
   "metadata": {},
   "outputs": [
    {
     "data": {
      "text/plain": [
       "\"History of the University of Aveiro\\n\\nThe University of Aveiro will be built to uphold the serene construction of the future and to defend sacred and enduring values.\\n\\nThis is how the then Minister of Education, José Veiga Simão began his inauguration speech of the first Foundation Commission of the University of Aveiro (UA) on December 15, 1973, comprised of the first rector, Victor Simões Gil, and other illustrious figures from the academic and Aveirense society.\\n\\nTo view the videos available on our website, you must accept advertising cookies. Find out more and change your preferences on the page dedicated to our Cookie policy\\n\\nIn the year 1974/1975, the course of Electronics and Telecommunications (Bachelor's degree) and its first 46 students, the UA opened its doors to the public. The focus of the UA was to create degrees in innovative areas, that were not offered by traditional higher education institutions, and in fields that corresponded to the regional and national productive structure. In 1976 courses had already been created in Environmental and Educational Sciences, Natural Sciences and Education, Mathematics and Education, English-Portuguese and Education, and French-Portuguese and Education. The student population was made up of 338 students. In that same year, the first university infrastructures were built, which would later become the University Campus of Santiago.\\n\\nIn the academic year of 1977/1978, the government proposed the creation of a pilot project at the UA: the first Integrated Center for Teacher Training (CIFOP), now known as the Center for lifelong learning (continUA), in the country. The UA welcomed this initiative which aimed to train teachers, from Early Childhood Education through to Higher Education, using innovative curricula and methodologies. By taking this initiave, a major area of expertise was developed at the university – the education and training of teachers. It was João Evangelista Loureiro, former vice-rector of the UA, who was the great driving force behind this project.\\n\\nFive years after the foundation of the University of Aveiro, a group of students got together and on June 28, 1978, they created the Students Association of the University of Aveiro. Later, this name was changed to Academic Association of the University of Aveiro (AAUAv), a name that is still used today.\\n\\nImagem aérea do Campus em 1978\\n\\nThe consolidation phase of the University took place in the 80s when the internal regulations and the creation of the fundamental university entities were defined. These changes were made during the mandate of the second Rector, José Mesquita Rodrigues, and the completion of the land acquisition process for the construction of the campus took place during the mandate of the third rector and first elected rector, Joaquim Renato Araújo.\\n\\nAThe Law of University Autonomy of September 24, 1988, led to the consolidation of the organisational structure of the UA, with the homologation of the University statutes in June 1989.\\n\\nIn 1986, a team coordinated by architect Nuno Portas, selected some of the most prestigious Portuguese architects of international standing to design the new buildings. As a result, the University Campus of Santiago would become a quality contribution to the city's architectural heritage. Today, buildings by Alcino Soutinho, Álvaro Siza Vieira, Pedro Ramalho, Luís Ramalho, José Maria Lopo Prata, Eduardo Souto Moura, Adalberto Dias, Rebello de Andrade, Jorge Kol de Carvalho, Gonçalo Byrne and Figueiredo Dias can be admired at UA and hundreds of national and foreign specialists come here annually to visit them.\\n\\nThe scope of initial degree courses was extended to include new innovative areas such as the Environment, Industrial Management, Music, Tourism, Materials, Industrial Chemistry and New Technologies.\\n\\nThe 1990s marked a new phase in the UA's evolution. New priorities such as internationalisation and cooperation are redefined, namely through participation in European programmes, strengthening relations with Portuguese-speaking and Latin American countries, participating in networks and consortia of international universities and signing protocols with institutions,organisations and companies in Portugal and abroad.\\n\\nThe collaboration of Aveiro University with the local community and society as as whole is reinforced by the UA's engagement in promoting the transfer of knowledge, technology and innovation within the world of business. At the same time, decisive steps are being taken to promote continuous training and distance learning programmes, which were becoming increasingly important in meeting the educational needs of different publics. In the course of its growth, the University has always striven to provide students and lecturers with excellent working spaces, scientific infrastructures and teaching conditions.\\n\\nDuring the second mandate of the fourth rector, Júlio Pedrosa, the academic population exceeded 8000 students and research had attained high quality standards. The dynamism of the University's teaching staff and its researchers would result in the UA becoming the Portuguese University with the largest number of internationally recognised research projects, a characteristic that it still maintains today.\\n\\nThe first mandate of the sixth rector of the UA, Maria Helena Nazaré, was marked by the launch of the UA's teaching programme and technical and professional training programmes (in the academic year 2002/2003). Since then, not only has the UA Post-Secondary Education Programme been extended to other municipalities, but the range of Technological Specialization Courses (CETs) has also increased, and now professional higher technical courses (TESP) are also being offered.\\n\\nThe two mandates of the seventh rector of the UA, Manuel António Assunção, between 2010-2014 and 2014-2018, are marked by a commitment to a Thinking, Feeling Campus and to the consolidation of the UA concept, as well as its affirmation as an international benchmark.\\n\\nOn March 13, 2018, Paulo Jorge Ferreira was elected rector of the UA.\""
      ]
     },
     "execution_count": 8,
     "metadata": {},
     "output_type": "execute_result"
    }
   ],
   "source": [
    "documents[0].text"
   ]
  }
 ],
 "metadata": {
  "kernelspec": {
   "display_name": ".venv",
   "language": "python",
   "name": "python3"
  },
  "language_info": {
   "codemirror_mode": {
    "name": "ipython",
    "version": 3
   },
   "file_extension": ".py",
   "mimetype": "text/x-python",
   "name": "python",
   "nbconvert_exporter": "python",
   "pygments_lexer": "ipython3",
   "version": "3.12.3"
  }
 },
 "nbformat": 4,
 "nbformat_minor": 2
}
